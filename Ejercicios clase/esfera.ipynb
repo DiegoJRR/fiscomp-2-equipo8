{
 "cells": [
  {
   "cell_type": "code",
   "execution_count": null,
   "metadata": {},
   "outputs": [],
   "source": [
    "# Trabajo en clase Fiscomp 2\n",
    "# Diego Ramirez A00828821\n",
    "# René Francisco Basáñez Córdoba A01700413\n",
    "# Emmanuel Alexei Ortiz Aldana A01747297\n",
    "\n",
    "import plotly.graph_objects as go\n",
    "from numpy.random import uniform\n",
    "import numpy as np\n",
    "import math\n",
    "\n",
    "# El codigo genera N cantidad de puntos en una esfera de radio R \n",
    "# utilizando el metodo monte carlo, calculando las CDF para la esfera \n",
    "# en coordenadas esfericas CDF(phi), CDF(theta), CDF(r)\n",
    "\n",
    "N = 10000\n",
    "R = 3\n",
    "\n",
    "alpha = uniform(0, 1, N)\n",
    "beta = uniform(0, 1, N)\n",
    "gamma = uniform(0, 1, N)\n",
    "\n",
    "phi = 2*math.pi*alpha\n",
    "theta = np.arccos(1 - 2*beta)\n",
    "r = R*np.power(gamma, 1/3)\n",
    "\n",
    "x = r*np.sin(theta)*np.cos(phi)\n",
    "y = r*np.sin(theta)*np.sin(phi)\n",
    "z = r*np.cos(theta)\n",
    "\n",
    "fig = go.Figure(data=[go.Scatter3d(x=x, y=y, z=z,\n",
    "                                   mode='markers')])\n",
    "fig.show()"
   ]
  },
  {
   "cell_type": "code",
   "execution_count": null,
   "metadata": {},
   "outputs": [],
   "source": []
  },
  {
   "cell_type": "code",
   "execution_count": null,
   "metadata": {},
   "outputs": [],
   "source": []
  }
 ],
 "metadata": {
  "interpreter": {
   "hash": "25aaab8dc85afa56142a00b3edf4b6143263c8349bb3989daa918d5a687fe112"
  },
  "kernelspec": {
   "display_name": "Python 3.9.7 ('base')",
   "language": "python",
   "name": "python3"
  },
  "language_info": {
   "codemirror_mode": {
    "name": "ipython",
    "version": 3
   },
   "file_extension": ".py",
   "mimetype": "text/x-python",
   "name": "python",
   "nbconvert_exporter": "python",
   "pygments_lexer": "ipython3",
   "version": "3.6.13"
  },
  "orig_nbformat": 4
 },
 "nbformat": 4,
 "nbformat_minor": 2
}
